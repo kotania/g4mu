{
 "cells": [
  {
   "cell_type": "code",
   "execution_count": 48,
   "id": "eec8f5a6",
   "metadata": {},
   "outputs": [],
   "source": [
    "import sys\n",
    "sys.path.append('../../')\n",
    "import glob\n",
    "from tqdm import tqdm\n",
    "\n",
    "import ROOT \n",
    "from ROOT import TFile\n",
    "\n",
    "import numpy as np\n",
    "import pandas as pd\n",
    "from scipy.interpolate import interp1d\n",
    "from numpy_indexed import group_by\n",
    "\n",
    "from particle import Particle\n",
    "from g4mu.utils.sorting import *\n",
    "from g4mu.utils.plotting_magic import *\n",
    "\n",
    "\n",
    "import matplotlib.pyplot as plt\n",
    "from matplotlib import ticker"
   ]
  },
  {
   "cell_type": "markdown",
   "id": "40633a16",
   "metadata": {},
   "source": [
    "### Settings"
   ]
  },
  {
   "cell_type": "code",
   "execution_count": 2,
   "id": "b8764d8e",
   "metadata": {},
   "outputs": [],
   "source": [
    "# Process charged secondaries below this energy\n",
    "energy_cut = 0.5 # GeV\n",
    "\n",
    "# Refractive index (assume wavelength-independent)\n",
    "n_refr = 1.33\n",
    "\n",
    "# Processes in which the secondaries were generated\n",
    "extract_processes = ['muIoni', 'muPairProd', 'muonNuclear', 'muBrems']\n",
    "\n",
    "# Placeholder for the secondary particle records\n",
    "secondary_data = {}\n",
    "for process in extract_processes:\n",
    "    secondary_data[process] = []"
   ]
  },
  {
   "cell_type": "markdown",
   "id": "6128e418",
   "metadata": {},
   "source": [
    "### Find ROOT files"
   ]
  },
  {
   "cell_type": "code",
   "execution_count": 3,
   "id": "fdd4801b",
   "metadata": {},
   "outputs": [],
   "source": [
    "# Get the file names of the Geant4 sim output trees\n",
    "input_files = glob.glob('../output/icesim_*.root')\n",
    "input_files.sort(key=natural_keys)"
   ]
  },
  {
   "cell_type": "markdown",
   "id": "dbab9109",
   "metadata": {},
   "source": [
    "### Process ROOT files and extract secondary track lengths "
   ]
  },
  {
   "cell_type": "code",
   "execution_count": 4,
   "id": "b5165d86",
   "metadata": {},
   "outputs": [
    {
     "name": "stdout",
     "output_type": "stream",
     "text": [
      "Processing file ../output/icesim_1.0_GeV.root\n",
      "Found 1000 events\n"
     ]
    },
    {
     "name": "stderr",
     "output_type": "stream",
     "text": [
      "100%|█████████████████████████████████████████████████████████████████████████████████████████| 1000/1000 [00:02<00:00, 495.39it/s]\n"
     ]
    },
    {
     "name": "stdout",
     "output_type": "stream",
     "text": [
      "Processing file ../output/icesim_2.0_GeV.root\n",
      "Found 1000 events\n"
     ]
    },
    {
     "name": "stderr",
     "output_type": "stream",
     "text": [
      "100%|█████████████████████████████████████████████████████████████████████████████████████████| 1000/1000 [00:04<00:00, 241.57it/s]\n"
     ]
    },
    {
     "name": "stdout",
     "output_type": "stream",
     "text": [
      "Processing file ../output/icesim_4.0_GeV.root\n",
      "Found 1000 events\n"
     ]
    },
    {
     "name": "stderr",
     "output_type": "stream",
     "text": [
      "100%|█████████████████████████████████████████████████████████████████████████████████████████| 1000/1000 [00:09<00:00, 108.87it/s]\n"
     ]
    },
    {
     "name": "stdout",
     "output_type": "stream",
     "text": [
      "Processing file ../output/icesim_5.0_GeV.root\n",
      "Found 1000 events\n"
     ]
    },
    {
     "name": "stderr",
     "output_type": "stream",
     "text": [
      "100%|██████████████████████████████████████████████████████████████████████████████████████████| 1000/1000 [00:12<00:00, 82.18it/s]\n"
     ]
    },
    {
     "name": "stdout",
     "output_type": "stream",
     "text": [
      "Processing file ../output/icesim_8.0_GeV.root\n",
      "Found 1000 events\n"
     ]
    },
    {
     "name": "stderr",
     "output_type": "stream",
     "text": [
      "100%|██████████████████████████████████████████████████████████████████████████████████████████| 1000/1000 [00:21<00:00, 47.01it/s]\n"
     ]
    },
    {
     "name": "stdout",
     "output_type": "stream",
     "text": [
      "Processing file ../output/icesim_10.0_GeV.root\n",
      "Found 1000 events\n"
     ]
    },
    {
     "name": "stderr",
     "output_type": "stream",
     "text": [
      "100%|██████████████████████████████████████████████████████████████████████████████████████████| 1000/1000 [00:27<00:00, 36.38it/s]\n"
     ]
    },
    {
     "name": "stdout",
     "output_type": "stream",
     "text": [
      "Processing file ../output/icesim_15.0_GeV.root\n",
      "Found 1000 events\n"
     ]
    },
    {
     "name": "stderr",
     "output_type": "stream",
     "text": [
      "100%|██████████████████████████████████████████████████████████████████████████████████████████| 1000/1000 [00:43<00:00, 22.80it/s]\n"
     ]
    },
    {
     "name": "stdout",
     "output_type": "stream",
     "text": [
      "Processing file ../output/icesim_20.0_GeV.root\n",
      "Found 1000 events\n"
     ]
    },
    {
     "name": "stderr",
     "output_type": "stream",
     "text": [
      "100%|██████████████████████████████████████████████████████████████████████████████████████████| 1000/1000 [01:00<00:00, 16.57it/s]\n"
     ]
    },
    {
     "name": "stdout",
     "output_type": "stream",
     "text": [
      "Processing file ../output/icesim_30.0_GeV.root\n",
      "Found 1000 events\n"
     ]
    },
    {
     "name": "stderr",
     "output_type": "stream",
     "text": [
      "100%|██████████████████████████████████████████████████████████████████████████████████████████| 1000/1000 [01:38<00:00, 10.13it/s]\n"
     ]
    },
    {
     "name": "stdout",
     "output_type": "stream",
     "text": [
      "Processing file ../output/icesim_50.0_GeV.root\n",
      "Found 1000 events\n"
     ]
    },
    {
     "name": "stderr",
     "output_type": "stream",
     "text": [
      "100%|██████████████████████████████████████████████████████████████████████████████████████████| 1000/1000 [03:01<00:00,  5.52it/s]\n"
     ]
    },
    {
     "name": "stdout",
     "output_type": "stream",
     "text": [
      "Processing file ../output/icesim_75.0_GeV.root\n",
      "Found 1000 events\n"
     ]
    },
    {
     "name": "stderr",
     "output_type": "stream",
     "text": [
      "100%|██████████████████████████████████████████████████████████████████████████████████████████| 1000/1000 [04:46<00:00,  3.49it/s]\n"
     ]
    },
    {
     "name": "stdout",
     "output_type": "stream",
     "text": [
      "Processing file ../output/icesim_100.0_GeV.root\n",
      "Found 1000 events\n"
     ]
    },
    {
     "name": "stderr",
     "output_type": "stream",
     "text": [
      "100%|██████████████████████████████████████████████████████████████████████████████████████████| 1000/1000 [06:35<00:00,  2.53it/s]\n"
     ]
    },
    {
     "name": "stdout",
     "output_type": "stream",
     "text": [
      "Processing file ../output/icesim_150.0_GeV.root\n",
      "Found 1000 events\n"
     ]
    },
    {
     "name": "stderr",
     "output_type": "stream",
     "text": [
      "100%|██████████████████████████████████████████████████████████████████████████████████████████| 1000/1000 [10:27<00:00,  1.59it/s]\n"
     ]
    },
    {
     "name": "stdout",
     "output_type": "stream",
     "text": [
      "Processing file ../output/icesim_200.0_GeV.root\n",
      "Found 1000 events\n"
     ]
    },
    {
     "name": "stderr",
     "output_type": "stream",
     "text": [
      "100%|██████████████████████████████████████████████████████████████████████████████████████████| 1000/1000 [14:26<00:00,  1.15it/s]\n"
     ]
    },
    {
     "name": "stdout",
     "output_type": "stream",
     "text": [
      "Processing file ../output/icesim_500.0_GeV.root\n",
      "Found 100 events\n"
     ]
    },
    {
     "name": "stderr",
     "output_type": "stream",
     "text": [
      "100%|████████████████████████████████████████████████████████████████████████████████████████████| 100/100 [03:01<00:00,  1.82s/it]\n"
     ]
    },
    {
     "name": "stdout",
     "output_type": "stream",
     "text": [
      "Processing file ../output/icesim_1000.0_GeV.root\n",
      "Found 100 events\n"
     ]
    },
    {
     "name": "stderr",
     "output_type": "stream",
     "text": [
      "100%|████████████████████████████████████████████████████████████████████████████████████████████| 100/100 [05:29<00:00,  3.30s/it]\n"
     ]
    }
   ],
   "source": [
    "# Loop through the files\n",
    "for file_path in input_files:\n",
    "    print('Processing file %s'%file_path)\n",
    "    # Get the ROOT tree and its branches\n",
    "    inp = TFile(file_path)\n",
    "    ttree = inp.Get(\"muons_in_ice\")\n",
    "    branches = np.array(ttree.GetListOfBranches())\n",
    "    branch_names = [branches[i].GetName() for i in range(len(branches))]\n",
    "    # Get the number of events in the current file\n",
    "    n_entries = ttree.GetEntries()\n",
    "    print('Found %s events'%n_entries)\n",
    "    \n",
    "    # Loop through the events in the current file\n",
    "    \n",
    "    for i in tqdm(range(n_entries)):\n",
    "        # Get the tree data for the current event\n",
    "        ttree.GetEntry(i)\n",
    "        # PDG IDs of the track-generating particles (e.g. muon, electron...)\n",
    "        track_pids = np.array(ttree.pid).astype(int)\n",
    "        # Unique Geant4 track IDs\n",
    "        track_ids = np.array(ttree.tid).astype(int)\n",
    "        # Track IDs of the track parents\n",
    "        parent_track_ids = np.array(ttree.parid).astype(int)\n",
    "        \n",
    "        # List of all processes (str)\n",
    "        process_names_list = list(ttree.proc)\n",
    "        process_names = np.array([str(process_names_list[j]) for j in range(len(process_names_list))])\n",
    "        \n",
    "        # Track lengths of the secondary particles\n",
    "        secondary_track_lengths = np.array(ttree.track_length).astype(float)\n",
    "        \n",
    "        # Kinetic energies of the secondary particles\n",
    "        secondary_ekin = np.array(ttree.ekin).astype(float)\n",
    "\n",
    "        # Each track contains multiple propagation steps. We need to group the tree data by tracks using track IDs:\n",
    "        grouping = group_by(track_ids)\n",
    "        # The PID of the track-generating particle\n",
    "        grouped_pids = grouping.first(track_pids)[1]\n",
    "        # The track ID of the current track's parent\n",
    "        grouped_parent_ids = grouping.first(parent_track_ids)[1]\n",
    "        # The track ID of the current track\n",
    "        grouped_track_ids = grouping.first(track_ids)[1]\n",
    "        # The process in which the track-generating particle was originally created\n",
    "        grouped_processes = grouping.first(process_names)[1]\n",
    "        # The initial kinetic energy of the secondary is the maximum energy of the track\n",
    "        # (as the secondary loses energy over the propagation steps stored in the track)\n",
    "        grouped_ekin = grouping.max(secondary_ekin)[1]\n",
    "        # The total track length is the max of the track lengths stored in propagation steps\n",
    "        # (what is stored in each step is the cumulative track length value, so we just need the final one)\n",
    "        grouped_track_lengths = grouping.max(secondary_track_lengths)[1]\n",
    "\n",
    "        # Total muon track length in meters\n",
    "        muon_track_length_m = float(grouped_track_lengths[grouped_pids == 13][0]) / 1e3\n",
    "        # Total muon kinetic energy in GeV\n",
    "        muon_energy_gev = np.array(ttree.ekini)[0]\n",
    "        \n",
    "        # It is possible that some electrons were created not as the result of direct muon ionization,\n",
    "        # but as the result of electron ionization ('eIoni' process), where the parent electron is created in 'muIoni'.\n",
    "        # Therefore we need to search not only over parent processes, but also over \"grantparent\" processes \n",
    "        # (otherwise we will not get any contributions from the tetriary particles and the total track length sum\n",
    "        # over the \"secondaries\" will be underestimated).\n",
    "        # To get the grandparent's process, create a lookup table over the track IDs (this is MUCH faster than np.where search!)\n",
    "        track_dict = {grouped_track_ids[x]: x for x in range(len(grouped_track_ids))}\n",
    "        # The first parent is a muon and was not created in any processes, so we just append a 'None' at the beginning\n",
    "        parent_processes = np.append('None', grouped_processes[np.array([track_dict[parent] for parent in grouped_parent_ids[1:]])])\n",
    "        \n",
    "        \n",
    "        for process in extract_processes:\n",
    "        # Select low-energy electrons that were generated in one of the muon processes.\n",
    "        # The try-except statement prevents us from not finding any particles that satisfy the requested\n",
    "        # criteria and getting IndexErrors.\n",
    "            try:\n",
    "                # We search for an electron/positron in all processes but the muon nuclear interaction\n",
    "                if process != 'muonNuclear':\n",
    "                    daughter_pid = 11\n",
    "                    mask = (np.abs(grouped_pids) == daughter_pid) & (grouped_ekin < energy_cut) & \\\n",
    "                            ((grouped_processes == process) | (parent_processes == process))\n",
    "                # Otherwise, we search for any charged particles (hadrons)\n",
    "                else:\n",
    "                    mask = (grouped_ekin < energy_cut) & ((grouped_processes == process) | (parent_processes == process)) \\\n",
    "                    & (grouped_pids != 22)\n",
    "                    daughter_pid = grouped_pids[mask][0]\n",
    "                # The mass of the daughter\n",
    "                daughter_mass = Particle.from_pdgid(daughter_pid).mass / 1e3\n",
    "                # The kinetic energy of the daughter\n",
    "                daughter_ekin = grouped_ekin[mask]\n",
    "                # The total energy of the daughter\n",
    "                daughter_etot = daughter_ekin + daughter_mass\n",
    "                # Lorentz gamma\n",
    "                daughter_gamma = daughter_etot / daughter_mass\n",
    "                # Lorentz beta\n",
    "                daughter_beta = np.sqrt(1 - (1 / daughter_gamma)**2)\n",
    "                # Frank-Tamm correction factors as per https://arxiv.org/pdf/1206.5530.pdf\n",
    "                frank_tamm_factors = (1 - (1 / (n_refr * daughter_beta) ** 2)) / (1 - (1 / n_refr**2))\n",
    "                frank_tamm_factors = np.where(frank_tamm_factors < 0., 0., frank_tamm_factors)\n",
    "                \n",
    "                # Sum of the secondary track lengths without the Frank-Tamm correction\n",
    "                total_sec_track_length_m = np.sum(grouped_track_lengths[mask]) / 1e3\n",
    "                # Sum of the secondary track lengths with the Frank-Tamm correction\n",
    "                total_sec_track_length_with_tamm_m =  np.sum(grouped_track_lengths[mask] * frank_tamm_factors) / 1e3\n",
    "                # Storing the results \n",
    "                secondary_data[process].append([total_sec_track_length_m, total_sec_track_length_with_tamm_m,\n",
    "                                                muon_track_length_m,\n",
    "                                                muon_energy_gev])\n",
    "                \n",
    "            except:\n",
    "                continue\n"
   ]
  },
  {
   "cell_type": "markdown",
   "id": "0c77e1a6",
   "metadata": {},
   "source": [
    "### Extract track lengths statistics (e.g. median, quantiles...)"
   ]
  },
  {
   "cell_type": "code",
   "execution_count": 5,
   "id": "79415ff1",
   "metadata": {},
   "outputs": [],
   "source": [
    "additional_tl_stats = {}\n",
    "\n",
    "for process in extract_processes:\n",
    "    secondary_data[process] = np.array(secondary_data[process])\n",
    "    additional_tl_stats[process] = []\n",
    "    \n",
    "    res_split_by_muon_energy = group_by(secondary_data[process][:, 3]).split_array_as_list(secondary_data[process])\n",
    "    for i in range(len(res_split_by_muon_energy)):\n",
    "        \n",
    "        additional_tamm_tl_16, additional_tamm_tl_50, additional_tamm_tl_84 = \\\n",
    "        np.quantile(res_split_by_muon_energy[i][:, 1] / res_split_by_muon_energy[i][:, 2], q=[0.16, 0.5, 0.84])\n",
    "        \n",
    "        additional_notamm_tl_16, additional_notamm_tl_50, additional_notamm_tl_84 = \\\n",
    "        np.quantile(res_split_by_muon_energy[i][:, 0] / res_split_by_muon_energy[i][:, 2], q=[0.16, 0.5, 0.84])\n",
    "        \n",
    "        muon_energy = res_split_by_muon_energy[i][:, 3][0]\n",
    "        \n",
    "        additional_tl_stats[process].append([muon_energy, \n",
    "                                             additional_tamm_tl_16, additional_tamm_tl_50, additional_tamm_tl_84,\n",
    "                                             additional_notamm_tl_16, additional_notamm_tl_50, additional_notamm_tl_84])\n",
    "    \n",
    "    additional_tl_stats[process] = np.array(additional_tl_stats[process])"
   ]
  },
  {
   "cell_type": "code",
   "execution_count": 102,
   "id": "addb3868",
   "metadata": {},
   "outputs": [],
   "source": [
    "def current_parametrization(E_mu, inter_type):\n",
    "    # Additional muon track length parametrization from https://arxiv.org/pdf/1206.5530.pdf\n",
    "    if inter_type == 'muIoni':\n",
    "        return 0.2489 + 0.003 * np.log(E_mu)\n",
    "    elif inter_type == 'muPairProd':\n",
    "        return -0.0626 + 0.0175 * np.log(E_mu)\n",
    "    elif inter_type == 'muonNuclear':\n",
    "        return 0.0005 * np.log(E_mu)\n",
    "    elif inter_type == 'muBrems':\n",
    "        return 0.0004 * np.log(E_mu)\n",
    "    \n",
    "    elif inter_type == 'total':\n",
    "        return 0.188 + 0.0206 * np.log(E_mu)"
   ]
  },
  {
   "cell_type": "code",
   "execution_count": 113,
   "id": "d776a89e",
   "metadata": {},
   "outputs": [
    {
     "data": {
      "image/png": "[encoded data removed]",
      "text/plain": [
       "<Figure size 720x684 with 2 Axes>"
      ]
     },
     "metadata": {},
     "output_type": "display_data"
    }
   ],
   "source": [
    "reset_plt(24, 24)\n",
    "fig, axes = plt.subplots(2, 1, figsize=(10, 9.5), gridspec_kw={'height_ratios': (3, 1)},\n",
    "                        sharex='col')\n",
    "ax1, ax2 = axes\n",
    "ax2.axhline(1, color='gray', lw=3, zorder=-100)\n",
    "\n",
    "muon_energy_range = np.logspace(-0.5, 3.5, 101)\n",
    "colors = {'muIoni': 'purple', 'muPairProd': 'orange', 'muBrems': 'pink', 'muonNuclear': 'blue'}\n",
    "label_alias = {'muIoni': 'ionis.', 'muPairProd': 'pair prod.'}\n",
    "\n",
    "muon_energies_ioniz = additional_tl_stats['muIoni'][:, 0]\n",
    "total_current_parametrization = np.zeros_like(muon_energies_ioniz)\n",
    "total_measured = np.zeros_like(muon_energies_ioniz)\n",
    "total_upper_error = np.zeros_like(muon_energies_ioniz)\n",
    "total_lower_error = np.zeros_like(muon_energies_ioniz)\n",
    "\n",
    "for process in extract_processes[:2]:\n",
    "    muon_energies = additional_tl_stats[process][:, 0]\n",
    "    lower, central, upper = additional_tl_stats[process][:, 1:4].T * 1e3\n",
    "    \n",
    "    lower_error = central - lower\n",
    "    upper_error = upper - central\n",
    "    asymmetric_error = np.array(list(zip(lower_error, upper_error))).T\n",
    "    \n",
    "    this_ppc_param = current_parametrization(muon_energy_range, process) * 1e3\n",
    "    \n",
    "    ax1.plot(muon_energy_range, this_ppc_param,\n",
    "           lw=4, alpha=0.4, color=colors[process], label=label_alias[process] + ' (PPC param.)')\n",
    "\n",
    "    ax1.errorbar(muon_energies, central, yerr = asymmetric_error, ls='None',\n",
    "               marker='o', capsize=2, markersize=10, color=colors[process],\n",
    "                label=label_alias[process] + ' (this study)')\n",
    "    \n",
    "    interp_current_parametrization = interp1d(muon_energy_range, this_ppc_param)(muon_energies)\n",
    "    total_measured += central\n",
    "    \n",
    "    this_ratio = central / interp_current_parametrization\n",
    "    ratio_err_lower = lower_error / interp_current_parametrization\n",
    "    ratio_err_upper = upper_error / interp_current_parametrization\n",
    "    \n",
    "    ax2.fill_between(muon_energies, this_ratio-ratio_err_lower, \n",
    "                    this_ratio + ratio_err_upper, color=colors[process],\n",
    "                    step='mid', alpha=0.4)\n",
    "    ax2.plot(muon_energies, this_ratio, color=colors[process], ds='steps-mid',\n",
    "            lw=3.5)\n",
    "    \n",
    "    total_lower_error += lower_error**2\n",
    "    total_upper_error += upper_error**2\n",
    "\n",
    "\n",
    "total_lower_error = np.sqrt(total_lower_error)\n",
    "total_upper_error = np.sqrt(total_upper_error)\n",
    "total_asymmetric_error = np.array(list(zip(total_lower_error, total_upper_error))).T\n",
    "    \n",
    "\n",
    "total_current_parametrization = current_parametrization(muon_energies, 'total') * 1e3\n",
    "ax1.plot(muon_energies, total_current_parametrization, color='red', alpha=0.4, lw=4,\n",
    "        label='total (PPC param.)')\n",
    "ax1.errorbar(muon_energies, total_measured, yerr=total_asymmetric_error, color='white', markersize=10,\n",
    "        mec='red', mew=2, ls='none', marker='o', label='total (this study)',\n",
    "            ecolor='red', capsize=2)\n",
    "\n",
    "total_ratio = total_measured / total_current_parametrization\n",
    "total_ratio_lower_error = total_lower_error / total_current_parametrization\n",
    "total_ratio_upper_error = total_upper_error / total_current_parametrization\n",
    "\n",
    "ax2.fill_between(muon_energies, total_ratio - total_ratio_lower_error,\n",
    "                total_ratio + total_ratio_upper_error, color='red', step='mid',\n",
    "                alpha=0.4)\n",
    "ax2.plot(muon_energies, total_ratio, color='red', ds='steps-mid', lw=3.5)\n",
    "\n",
    "    \n",
    "for ax in axes:\n",
    "    ax.set_xscale('log')\n",
    "    ax.grid(True)\n",
    "    put_ticks(fig, ax)\n",
    "    \n",
    "    \n",
    "# ax1.set_yscale('log')\n",
    "# ax1.set_ylim(1e-1, 5e2)\n",
    "ax1.set_ylim(-20, 5e2)\n",
    "\n",
    "ax1.set_xlim(0.8, 1.3e3)\n",
    "ax2.set_ylim(0.41, 1.1)\n",
    "\n",
    "ax2.yaxis.set_major_locator(ticker.MultipleLocator(0.2))\n",
    "ax2.yaxis.set_minor_locator(ticker.MultipleLocator(0.1))\n",
    "\n",
    "ax2.set_xlabel(r'$E_{\\mu}$ [GeV]')\n",
    "ax2.set_ylabel('ratio')\n",
    "ax1.set_ylabel(r'additional track length ($E_{\\mathrm{sec}} < 0.5\\,\\mathrm{GeV}$)' + '\\n' + '[cm per 10m muon track]')\n",
    "\n",
    "ax1.legend(loc=(1.05, 0.3), frameon=True)\n",
    "fig.subplots_adjust(hspace=0.12)\n",
    "\n",
    "plt.savefig('../plots/additional_track_length_lin.pdf', bbox_inches='tight')\n"
   ]
  },
  {
   "cell_type": "code",
   "execution_count": null,
   "id": "30f8de51",
   "metadata": {},
   "outputs": [],
   "source": []
  }
 ],
 "metadata": {
  "kernelspec": {
   "display_name": "Space396",
   "language": "python",
   "name": "space396"
  },
  "language_info": {
   "codemirror_mode": {
    "name": "ipython",
    "version": 3
   },
   "file_extension": ".py",
   "mimetype": "text/x-python",
   "name": "python",
   "nbconvert_exporter": "python",
   "pygments_lexer": "ipython3",
   "version": "3.9.6"
  }
 },
 "nbformat": 4,
 "nbformat_minor": 5
}
